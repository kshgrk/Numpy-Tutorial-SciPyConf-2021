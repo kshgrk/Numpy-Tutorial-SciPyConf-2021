{
 "cells": [
  {
   "cell_type": "markdown",
   "source": [
    "# Since Function\n",
    "Topics: Broadcasting, Fancy Indexing\n",
    "\n",
    "The [sinc function](https://en.wikipedia.org/wiki/Sinc_function) is defined by: \n",
    "\n",
    "$$ \\large sinc(r) = \\frac{sin(r)}{r} $$\n",
    "\n",
    "\n",
    "1. Create a Cartesian x,y grid by defining `x` and `y` as arrays of evenly spaced numbers over the interval `[-15, 15]`. Each of these arrays should have `101` numbers.\n",
    "\n",
    "2. Reshape the `y` array into a \"column\" vector by increasing the dimensionality using array slicing and `newaxis`.\n",
    "\n",
    "3. Create an array of `r` that corresponds to the following equation:\n",
    "\n",
    "$$ \\large r = \\sqrt{x^2 + y^2} $$\n",
    "\n",
    "\n",
    "4. Calculate the sinc function of `r`.\n",
    "\n",
    "5. Replace any location in `sinc` where `r` is `0` with `1.0`.\n",
    "\n",
    "\n",
    "## Bonus\n",
    "6. Plot the result of the sinc function using `matplotlib`'s `plt.imshow` function."
   ],
   "metadata": {}
  },
  {
   "cell_type": "code",
   "execution_count": 1,
   "source": [
    "%matplotlib inline\n",
    "from numpy import linspace, sin, sqrt, newaxis\n",
    "import matplotlib.pyplot as plt"
   ],
   "outputs": [],
   "metadata": {}
  },
  {
   "cell_type": "markdown",
   "source": [
    "1. Create a Cartesian x,y grid by defining `x` and `y` as arrays of evenly spaced numbers over the interval `[-15, 15]`. Each of these arrays should have `101` numbers."
   ],
   "metadata": {}
  },
  {
   "cell_type": "code",
   "execution_count": 11,
   "source": [
    "x = linspace(-15, 15, 101)\n",
    "y = linspace(-15, 15, 101)"
   ],
   "outputs": [],
   "metadata": {}
  },
  {
   "cell_type": "markdown",
   "source": [
    "2. Reshape the y array into a \"column\" vector by increasing the dimensionality using array slicing and newaxis."
   ],
   "metadata": {}
  },
  {
   "cell_type": "code",
   "execution_count": 12,
   "source": [
    "y = y[:, newaxis]\n",
    "y"
   ],
   "outputs": [
    {
     "output_type": "execute_result",
     "data": {
      "text/plain": [
       "array([[-15. ],\n",
       "       [-14.7],\n",
       "       [-14.4],\n",
       "       [-14.1],\n",
       "       [-13.8],\n",
       "       [-13.5],\n",
       "       [-13.2],\n",
       "       [-12.9],\n",
       "       [-12.6],\n",
       "       [-12.3],\n",
       "       [-12. ],\n",
       "       [-11.7],\n",
       "       [-11.4],\n",
       "       [-11.1],\n",
       "       [-10.8],\n",
       "       [-10.5],\n",
       "       [-10.2],\n",
       "       [ -9.9],\n",
       "       [ -9.6],\n",
       "       [ -9.3],\n",
       "       [ -9. ],\n",
       "       [ -8.7],\n",
       "       [ -8.4],\n",
       "       [ -8.1],\n",
       "       [ -7.8],\n",
       "       [ -7.5],\n",
       "       [ -7.2],\n",
       "       [ -6.9],\n",
       "       [ -6.6],\n",
       "       [ -6.3],\n",
       "       [ -6. ],\n",
       "       [ -5.7],\n",
       "       [ -5.4],\n",
       "       [ -5.1],\n",
       "       [ -4.8],\n",
       "       [ -4.5],\n",
       "       [ -4.2],\n",
       "       [ -3.9],\n",
       "       [ -3.6],\n",
       "       [ -3.3],\n",
       "       [ -3. ],\n",
       "       [ -2.7],\n",
       "       [ -2.4],\n",
       "       [ -2.1],\n",
       "       [ -1.8],\n",
       "       [ -1.5],\n",
       "       [ -1.2],\n",
       "       [ -0.9],\n",
       "       [ -0.6],\n",
       "       [ -0.3],\n",
       "       [  0. ],\n",
       "       [  0.3],\n",
       "       [  0.6],\n",
       "       [  0.9],\n",
       "       [  1.2],\n",
       "       [  1.5],\n",
       "       [  1.8],\n",
       "       [  2.1],\n",
       "       [  2.4],\n",
       "       [  2.7],\n",
       "       [  3. ],\n",
       "       [  3.3],\n",
       "       [  3.6],\n",
       "       [  3.9],\n",
       "       [  4.2],\n",
       "       [  4.5],\n",
       "       [  4.8],\n",
       "       [  5.1],\n",
       "       [  5.4],\n",
       "       [  5.7],\n",
       "       [  6. ],\n",
       "       [  6.3],\n",
       "       [  6.6],\n",
       "       [  6.9],\n",
       "       [  7.2],\n",
       "       [  7.5],\n",
       "       [  7.8],\n",
       "       [  8.1],\n",
       "       [  8.4],\n",
       "       [  8.7],\n",
       "       [  9. ],\n",
       "       [  9.3],\n",
       "       [  9.6],\n",
       "       [  9.9],\n",
       "       [ 10.2],\n",
       "       [ 10.5],\n",
       "       [ 10.8],\n",
       "       [ 11.1],\n",
       "       [ 11.4],\n",
       "       [ 11.7],\n",
       "       [ 12. ],\n",
       "       [ 12.3],\n",
       "       [ 12.6],\n",
       "       [ 12.9],\n",
       "       [ 13.2],\n",
       "       [ 13.5],\n",
       "       [ 13.8],\n",
       "       [ 14.1],\n",
       "       [ 14.4],\n",
       "       [ 14.7],\n",
       "       [ 15. ]])"
      ]
     },
     "metadata": {},
     "execution_count": 12
    }
   ],
   "metadata": {}
  },
  {
   "cell_type": "markdown",
   "source": [
    "3. Create an array of `r` that corresponds to the following equation:\n",
    "\n",
    "$$ \\large r = \\sqrt{x^2 + y^2} $$"
   ],
   "metadata": {}
  },
  {
   "cell_type": "code",
   "execution_count": 13,
   "source": [
    "r = sqrt(x**2 + y**2)\n",
    "r"
   ],
   "outputs": [
    {
     "output_type": "execute_result",
     "data": {
      "text/plain": [
       "array([[21.21320344, 21.00214275, 20.79326814, ..., 20.79326814,\n",
       "        21.00214275, 21.21320344],\n",
       "       [21.00214275, 20.78893937, 20.57790077, ..., 20.57790077,\n",
       "        20.78893937, 21.00214275],\n",
       "       [20.79326814, 20.57790077, 20.3646753 , ..., 20.3646753 ,\n",
       "        20.57790077, 20.79326814],\n",
       "       ...,\n",
       "       [20.79326814, 20.57790077, 20.3646753 , ..., 20.3646753 ,\n",
       "        20.57790077, 20.79326814],\n",
       "       [21.00214275, 20.78893937, 20.57790077, ..., 20.57790077,\n",
       "        20.78893937, 21.00214275],\n",
       "       [21.21320344, 21.00214275, 20.79326814, ..., 20.79326814,\n",
       "        21.00214275, 21.21320344]])"
      ]
     },
     "metadata": {},
     "execution_count": 13
    }
   ],
   "metadata": {}
  },
  {
   "cell_type": "markdown",
   "source": [
    "4. Calculate the sinc function of `r`"
   ],
   "metadata": {}
  },
  {
   "cell_type": "code",
   "execution_count": 14,
   "source": [
    "sinc = sin(r)/r\n",
    "sinc"
   ],
   "outputs": [
    {
     "output_type": "stream",
     "name": "stderr",
     "text": [
      "/tmp/ipykernel_16081/221344926.py:1: RuntimeWarning: invalid value encountered in true_divide\n",
      "  sinc = sin(r)/r\n"
     ]
    },
    {
     "output_type": "execute_result",
     "data": {
      "text/plain": [
       "array([[0.03308398, 0.03978071, 0.04478704, ..., 0.04478704, 0.03978071,\n",
       "        0.03308398],\n",
       "       [0.03978071, 0.04487181, 0.04799396, ..., 0.04799396, 0.04487181,\n",
       "        0.03978071],\n",
       "       [0.04478704, 0.04799396, 0.04902855, ..., 0.04902855, 0.04799396,\n",
       "        0.04478704],\n",
       "       ...,\n",
       "       [0.04478704, 0.04799396, 0.04902855, ..., 0.04902855, 0.04799396,\n",
       "        0.04478704],\n",
       "       [0.03978071, 0.04487181, 0.04799396, ..., 0.04799396, 0.04487181,\n",
       "        0.03978071],\n",
       "       [0.03308398, 0.03978071, 0.04478704, ..., 0.04478704, 0.03978071,\n",
       "        0.03308398]])"
      ]
     },
     "metadata": {},
     "execution_count": 14
    }
   ],
   "metadata": {}
  },
  {
   "cell_type": "markdown",
   "source": [
    "5. Replace any location in `sinc` where `r` is `0` with `1.0`."
   ],
   "metadata": {}
  },
  {
   "cell_type": "code",
   "execution_count": 17,
   "source": [
    "sinc[r == 0] = 1.0\n",
    "sinc"
   ],
   "outputs": [
    {
     "output_type": "execute_result",
     "data": {
      "text/plain": [
       "array([[0.03308398, 0.03978071, 0.04478704, ..., 0.04478704, 0.03978071,\n",
       "        0.03308398],\n",
       "       [0.03978071, 0.04487181, 0.04799396, ..., 0.04799396, 0.04487181,\n",
       "        0.03978071],\n",
       "       [0.04478704, 0.04799396, 0.04902855, ..., 0.04902855, 0.04799396,\n",
       "        0.04478704],\n",
       "       ...,\n",
       "       [0.04478704, 0.04799396, 0.04902855, ..., 0.04902855, 0.04799396,\n",
       "        0.04478704],\n",
       "       [0.03978071, 0.04487181, 0.04799396, ..., 0.04799396, 0.04487181,\n",
       "        0.03978071],\n",
       "       [0.03308398, 0.03978071, 0.04478704, ..., 0.04478704, 0.03978071,\n",
       "        0.03308398]])"
      ]
     },
     "metadata": {},
     "execution_count": 17
    }
   ],
   "metadata": {}
  },
  {
   "cell_type": "markdown",
   "source": [
    "## Bonus\n",
    "6. Plot the result of the sinc function using `matplotlib`'s `plt.imshow` function."
   ],
   "metadata": {}
  },
  {
   "cell_type": "code",
   "execution_count": null,
   "source": [
    "### Will do after covering matplotlib ###"
   ],
   "outputs": [],
   "metadata": {}
  }
 ],
 "metadata": {
  "kernelspec": {
   "name": "python3",
   "display_name": "Python 3.9.7 64-bit"
  },
  "language_info": {
   "codemirror_mode": {
    "name": "ipython",
    "version": 3
   },
   "file_extension": ".py",
   "mimetype": "text/x-python",
   "name": "python",
   "nbconvert_exporter": "python",
   "pygments_lexer": "ipython3",
   "version": "3.9.7"
  },
  "interpreter": {
   "hash": "e7370f93d1d0cde622a1f8e1c04877d8463912d04d973331ad4851f04de6915a"
  }
 },
 "nbformat": 4,
 "nbformat_minor": 4
}