{
 "cells": [
  {
   "cell_type": "markdown",
   "source": [
    "# Wind Statistics\n",
    "\n",
    "Topics: Using array methods over different axes, fancy indexing.\n",
    "\n",
    "1. The data in 'wind.data' has the following format:\n",
    "\n",
    "```\n",
    "61  1  1 15.04 14.96 13.17  9.29 13.96  9.87 13.67 10.25 10.83 12.58 18.50 15.04\n",
    "61  1  2 14.71 16.88 10.83  6.50 12.62  7.67 11.50 10.04  9.79  9.67 17.54 13.83\n",
    "61  1  3 18.50 16.88 12.33 10.13 11.17  6.17 11.25  8.04  8.50  7.67 12.75 12.71\n",
    "```\n",
    "\n",
    "The first three columns are year, month and day.  The\n",
    "remaining 12 columns are average windspeeds in knots at 12\n",
    "locations in Ireland on that day. \n",
    "\n",
    "You should be able to solve questions 2–7 without using a for loop or other looping construct.\n",
    "\n",
    "Start by using the 'loadtxt' function from numpy to read the data into an array. "
   ],
   "metadata": {}
  },
  {
   "cell_type": "code",
   "execution_count": 4,
   "source": [
    "import numpy as np"
   ],
   "outputs": [],
   "metadata": {}
  },
  {
   "cell_type": "code",
   "execution_count": 5,
   "source": [
    "total_data = np.loadtxt('wind.data')\n",
    "data = total_data[:, 3:]"
   ],
   "outputs": [],
   "metadata": {}
  },
  {
   "cell_type": "markdown",
   "source": [
    "2. Calculate the min, max and mean windspeeds and standard deviation of the windspeeds over all the locations and all the times (a single set of numbers for the entire dataset)."
   ],
   "metadata": {}
  },
  {
   "cell_type": "code",
   "execution_count": 6,
   "source": [
    "min_data = data.min()\n",
    "max_data = data.max()\n",
    "mean_data = data.mean()\n",
    "std_data = data.std()\n",
    "print(min_data, max_data, mean_data, std_data)"
   ],
   "outputs": [
    {
     "output_type": "stream",
     "name": "stdout",
     "text": [
      "0.0 42.54 10.22837377040868 5.603840181095793\n"
     ]
    }
   ],
   "metadata": {}
  },
  {
   "cell_type": "markdown",
   "source": [
    "3. Calculate the min, max and mean windspeeds and standard deviations of the windspeeds at each location over all the days (a different set of numbers for each location)"
   ],
   "metadata": {}
  },
  {
   "cell_type": "code",
   "execution_count": 7,
   "source": [
    "min_sep = data.min(axis=0)\n",
    "max_sep = data.max(axis=0)\n",
    "mean_sep = data.mean(axis=0)\n",
    "std_sep = data.std(axis=0)\n",
    "print(min_sep, max_sep, mean_sep, std_sep)"
   ],
   "outputs": [
    {
     "output_type": "stream",
     "name": "stdout",
     "text": [
      "[0.67 0.21 1.5  0.   0.13 0.   0.   0.   0.   0.04 0.13 0.67] [35.8  33.37 33.84 28.46 37.54 26.16 30.37 31.08 25.88 28.21 42.38 42.54] [12.36371463 10.64644813 11.66010344  6.30627472 10.45688013  7.09225434\n",
      "  9.7968345   8.49442044  8.49581838  8.70726803 13.121007   15.59946152] [5.61918301 5.26820081 5.00738377 3.60513309 4.93536333 3.96838126\n",
      " 4.97689374 4.49865783 4.16746101 4.50327222 5.83459319 6.69734719]\n"
     ]
    }
   ],
   "metadata": {}
  },
  {
   "cell_type": "markdown",
   "source": [
    "4. Calculate the min, max and mean windspeed and standard deviations of the windspeeds across all the locations at each day (a different set of numbers for each day)"
   ],
   "metadata": {}
  },
  {
   "cell_type": "code",
   "execution_count": 8,
   "source": [
    "min_day = data.min(axis=1)\n",
    "max_day = data.max(axis=1)\n",
    "mean_day = data.mean(axis=1)\n",
    "std_day = data.std(axis=1)\n",
    "print(min_day, max_day, mean_day, std_day)"
   ],
   "outputs": [
    {
     "output_type": "stream",
     "name": "stdout",
     "text": [
      "[9.29 6.5  6.17 ... 8.71 9.13 9.59] [18.5  17.54 18.5  ... 29.58 28.79 27.29] [13.09666667 11.79833333 11.34166667 ... 14.89       15.3675\n",
      " 15.4025    ] [2.5773188  3.28972854 3.50543348 ... 5.51175108 5.30456427 5.45971172]\n"
     ]
    }
   ],
   "metadata": {}
  },
  {
   "cell_type": "markdown",
   "source": [
    "5. Find the location which has the greatest windspeed on each day (an integer column number for each day)."
   ],
   "metadata": {}
  },
  {
   "cell_type": "code",
   "execution_count": 9,
   "source": [
    "np.argmax(data, axis=-1)"
   ],
   "outputs": [
    {
     "output_type": "execute_result",
     "data": {
      "text/plain": [
       "array([10, 10,  0, ..., 11, 11,  2])"
      ]
     },
     "metadata": {},
     "execution_count": 9
    }
   ],
   "metadata": {}
  },
  {
   "cell_type": "markdown",
   "source": [
    "6. Find the year, month and day on which the greatest windspeed was recorded."
   ],
   "metadata": {}
  },
  {
   "cell_type": "code",
   "execution_count": 10,
   "source": [
    "max_co_od = np.max(np.argmax(data, axis=-2))\n",
    "req = total_data[max_co_od, :3]\n",
    "print(int(req[1]),\"/\",int(req[2]),\"/\",int(req[0]))"
   ],
   "outputs": [
    {
     "output_type": "stream",
     "name": "stdout",
     "text": [
      "12 / 2 / 66\n"
     ]
    }
   ],
   "metadata": {}
  },
  {
   "cell_type": "markdown",
   "source": [
    "7. Find the average windspeed in January for each location."
   ],
   "metadata": {}
  },
  {
   "cell_type": "code",
   "execution_count": 17,
   "source": [
    "jan_index = total_data[:, 1] == 1\n",
    "jan_data = data[jan_index]\n",
    "np.mean(jan_data, axis=-2)"
   ],
   "outputs": [
    {
     "output_type": "execute_result",
     "data": {
      "text/plain": [
       "array([14.86955197, 12.92166667, 13.29962366,  7.19949821, 11.67571685,\n",
       "        8.05483871, 11.81935484,  9.5094086 ,  9.54320789, 10.05356631,\n",
       "       14.55051971, 18.02876344])"
      ]
     },
     "metadata": {},
     "execution_count": 17
    }
   ],
   "metadata": {}
  },
  {
   "cell_type": "markdown",
   "source": [
    "## Bonus\n",
    "\n",
    "\n",
    "1. Calculate the mean windspeed for each month in the dataset.  Treat\n",
    "   January 1961 and January 1962 as *different* months. (hint: first find a\n",
    "   way to create an identifier unique for each month. The second step might\n",
    "   require a for loop.)"
   ],
   "metadata": {}
  },
  {
   "cell_type": "code",
   "execution_count": null,
   "source": [],
   "outputs": [],
   "metadata": {}
  },
  {
   "cell_type": "markdown",
   "source": [
    "2. Calculate the min, max and mean windspeeds and standard deviations of the\n",
    "   windspeeds across all locations for each week (assume that the first week\n",
    "   starts on January 1 1961) for the first 52 weeks. This can be done without\n",
    "   any for loop."
   ],
   "metadata": {}
  },
  {
   "cell_type": "code",
   "execution_count": null,
   "source": [],
   "outputs": [],
   "metadata": {}
  },
  {
   "cell_type": "markdown",
   "source": [
    "## Bonus Bonus\n",
    "\n",
    "Calculate the mean windspeed for each month without using a for loop.\n",
    "(Hint: look at `searchsorted` and `add.reduceat`.)"
   ],
   "metadata": {}
  },
  {
   "cell_type": "code",
   "execution_count": null,
   "source": [],
   "outputs": [],
   "metadata": {}
  },
  {
   "cell_type": "markdown",
   "source": [
    "## Notes\n",
    "\n",
    "These data were analyzed in detail in the following article:\n",
    "\n",
    "   Haslett, J. and Raftery, A. E. (1989). Space-time Modelling with\n",
    "   Long-memory Dependence: Assessing Ireland's Wind Power Resource\n",
    "   (with Discussion). Applied Statistics 38, 1-50."
   ],
   "metadata": {}
  }
 ],
 "metadata": {
  "kernelspec": {
   "name": "python3",
   "display_name": "Python 3.9.7 64-bit"
  },
  "language_info": {
   "codemirror_mode": {
    "name": "ipython",
    "version": 3
   },
   "file_extension": ".py",
   "mimetype": "text/x-python",
   "name": "python",
   "nbconvert_exporter": "python",
   "pygments_lexer": "ipython3",
   "version": "3.9.7"
  },
  "interpreter": {
   "hash": "e7370f93d1d0cde622a1f8e1c04877d8463912d04d973331ad4851f04de6915a"
  }
 },
 "nbformat": 4,
 "nbformat_minor": 2
}