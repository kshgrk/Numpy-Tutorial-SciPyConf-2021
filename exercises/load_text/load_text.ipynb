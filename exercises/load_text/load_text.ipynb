{
 "cells": [
  {
   "cell_type": "markdown",
   "source": [
    "# Load Array from Text File\n",
    "\n",
    "0. In a clean notebook cell, type:\n",
    "\n",
    "        In [ ]: loadtxt?\n",
    "\n",
    "   to see the options on how to use the `loadtxt` command.\n",
    "\n",
    "\n",
    "1. Use `loadtxt` to load in a 2D array of floating point values from `'float_data.txt'`.\n",
    "   The data in the file looks like:\n",
    "\n",
    "        1 2 3 4\n",
    "        5 6 7 8\n",
    "\n",
    "   The resulting data should be a 2x4 array of floating point values.\n",
    "\n",
    "\n",
    "2. In the second example, the file `'float_data_with_header.txt'` has\n",
    "   strings as column names in the first row:\n",
    "\n",
    "        c1 c2 c3 c4\n",
    "         1  2  3  4\n",
    "         5  6  7  8\n",
    "\n",
    "   Ignore these column names, and read the remainder of the data into\n",
    "   a 2D array.\n",
    "\n",
    "## Bonus\n",
    "\n",
    "\n",
    "3. A third example is more involved. It contains comments in multiple\n",
    "   locations, uses multiple formats, and includes a useless column to\n",
    "   skip:\n",
    "\n",
    "    -- THIS IS THE BEGINNING OF THE FILE --  \n",
    "    % This is a more complex file to read!\n",
    "\n",
    "    % Day,  Month,  Year, Useless Col, Avg Power\n",
    "       01,     01,  2000,      ad766,         30\n",
    "       02,     01,  2000,       t873,         41\n",
    "    % we don't have Jan 03rd!\n",
    "       04,     01,  2000,       r441,         55\n",
    "       05,     01,  2000,       s345,         78\n",
    "       06,     01,  2000,       x273,        134 % that day was crazy\n",
    "       07,     01,  2000,       x355,         42\n",
    "\n",
    "    %-- THIS IS THE END OF THE FILE --\n"
   ],
   "metadata": {}
  },
  {
   "cell_type": "code",
   "execution_count": 2,
   "source": [
    "from numpy import loadtxt"
   ],
   "outputs": [],
   "metadata": {}
  },
  {
   "cell_type": "markdown",
   "source": [
    "0. Use the command `loadtxt?` below to see the options on how to use the `loadtxt` command."
   ],
   "metadata": {}
  },
  {
   "cell_type": "code",
   "execution_count": 3,
   "source": [
    "loadtxt?"
   ],
   "outputs": [
    {
     "output_type": "stream",
     "name": "stdout",
     "text": [
      "\u001b[0;31mSignature:\u001b[0m\n",
      "\u001b[0mloadtxt\u001b[0m\u001b[0;34m(\u001b[0m\u001b[0;34m\u001b[0m\n",
      "\u001b[0;34m\u001b[0m    \u001b[0mfname\u001b[0m\u001b[0;34m,\u001b[0m\u001b[0;34m\u001b[0m\n",
      "\u001b[0;34m\u001b[0m    \u001b[0mdtype\u001b[0m\u001b[0;34m=\u001b[0m\u001b[0;34m<\u001b[0m\u001b[0;32mclass\u001b[0m \u001b[0;34m'float'\u001b[0m\u001b[0;34m>\u001b[0m\u001b[0;34m,\u001b[0m\u001b[0;34m\u001b[0m\n",
      "\u001b[0;34m\u001b[0m    \u001b[0mcomments\u001b[0m\u001b[0;34m=\u001b[0m\u001b[0;34m'#'\u001b[0m\u001b[0;34m,\u001b[0m\u001b[0;34m\u001b[0m\n",
      "\u001b[0;34m\u001b[0m    \u001b[0mdelimiter\u001b[0m\u001b[0;34m=\u001b[0m\u001b[0;32mNone\u001b[0m\u001b[0;34m,\u001b[0m\u001b[0;34m\u001b[0m\n",
      "\u001b[0;34m\u001b[0m    \u001b[0mconverters\u001b[0m\u001b[0;34m=\u001b[0m\u001b[0;32mNone\u001b[0m\u001b[0;34m,\u001b[0m\u001b[0;34m\u001b[0m\n",
      "\u001b[0;34m\u001b[0m    \u001b[0mskiprows\u001b[0m\u001b[0;34m=\u001b[0m\u001b[0;36m0\u001b[0m\u001b[0;34m,\u001b[0m\u001b[0;34m\u001b[0m\n",
      "\u001b[0;34m\u001b[0m    \u001b[0musecols\u001b[0m\u001b[0;34m=\u001b[0m\u001b[0;32mNone\u001b[0m\u001b[0;34m,\u001b[0m\u001b[0;34m\u001b[0m\n",
      "\u001b[0;34m\u001b[0m    \u001b[0munpack\u001b[0m\u001b[0;34m=\u001b[0m\u001b[0;32mFalse\u001b[0m\u001b[0;34m,\u001b[0m\u001b[0;34m\u001b[0m\n",
      "\u001b[0;34m\u001b[0m    \u001b[0mndmin\u001b[0m\u001b[0;34m=\u001b[0m\u001b[0;36m0\u001b[0m\u001b[0;34m,\u001b[0m\u001b[0;34m\u001b[0m\n",
      "\u001b[0;34m\u001b[0m    \u001b[0mencoding\u001b[0m\u001b[0;34m=\u001b[0m\u001b[0;34m'bytes'\u001b[0m\u001b[0;34m,\u001b[0m\u001b[0;34m\u001b[0m\n",
      "\u001b[0;34m\u001b[0m    \u001b[0mmax_rows\u001b[0m\u001b[0;34m=\u001b[0m\u001b[0;32mNone\u001b[0m\u001b[0;34m,\u001b[0m\u001b[0;34m\u001b[0m\n",
      "\u001b[0;34m\u001b[0m    \u001b[0;34m*\u001b[0m\u001b[0;34m,\u001b[0m\u001b[0;34m\u001b[0m\n",
      "\u001b[0;34m\u001b[0m    \u001b[0mlike\u001b[0m\u001b[0;34m=\u001b[0m\u001b[0;32mNone\u001b[0m\u001b[0;34m,\u001b[0m\u001b[0;34m\u001b[0m\n",
      "\u001b[0;34m\u001b[0m\u001b[0;34m)\u001b[0m\u001b[0;34m\u001b[0m\u001b[0;34m\u001b[0m\u001b[0m\n",
      "\u001b[0;31mDocstring:\u001b[0m\n",
      "Load data from a text file.\n",
      "\n",
      "Each row in the text file must have the same number of values.\n",
      "\n",
      "Parameters\n",
      "----------\n",
      "fname : file, str, or pathlib.Path\n",
      "    File, filename, or generator to read.  If the filename extension is\n",
      "    ``.gz`` or ``.bz2``, the file is first decompressed. Note that\n",
      "    generators should return byte strings.\n",
      "dtype : data-type, optional\n",
      "    Data-type of the resulting array; default: float.  If this is a\n",
      "    structured data-type, the resulting array will be 1-dimensional, and\n",
      "    each row will be interpreted as an element of the array.  In this\n",
      "    case, the number of columns used must match the number of fields in\n",
      "    the data-type.\n",
      "comments : str or sequence of str, optional\n",
      "    The characters or list of characters used to indicate the start of a\n",
      "    comment. None implies no comments. For backwards compatibility, byte\n",
      "    strings will be decoded as 'latin1'. The default is '#'.\n",
      "delimiter : str, optional\n",
      "    The string used to separate values. For backwards compatibility, byte\n",
      "    strings will be decoded as 'latin1'. The default is whitespace.\n",
      "converters : dict, optional\n",
      "    A dictionary mapping column number to a function that will parse the\n",
      "    column string into the desired value.  E.g., if column 0 is a date\n",
      "    string: ``converters = {0: datestr2num}``.  Converters can also be\n",
      "    used to provide a default value for missing data (but see also\n",
      "    `genfromtxt`): ``converters = {3: lambda s: float(s.strip() or 0)}``.\n",
      "    Default: None.\n",
      "skiprows : int, optional\n",
      "    Skip the first `skiprows` lines, including comments; default: 0.\n",
      "usecols : int or sequence, optional\n",
      "    Which columns to read, with 0 being the first. For example,\n",
      "    ``usecols = (1,4,5)`` will extract the 2nd, 5th and 6th columns.\n",
      "    The default, None, results in all columns being read.\n",
      "\n",
      "    .. versionchanged:: 1.11.0\n",
      "        When a single column has to be read it is possible to use\n",
      "        an integer instead of a tuple. E.g ``usecols = 3`` reads the\n",
      "        fourth column the same way as ``usecols = (3,)`` would.\n",
      "unpack : bool, optional\n",
      "    If True, the returned array is transposed, so that arguments may be\n",
      "    unpacked using ``x, y, z = loadtxt(...)``.  When used with a\n",
      "    structured data-type, arrays are returned for each field.\n",
      "    Default is False.\n",
      "ndmin : int, optional\n",
      "    The returned array will have at least `ndmin` dimensions.\n",
      "    Otherwise mono-dimensional axes will be squeezed.\n",
      "    Legal values: 0 (default), 1 or 2.\n",
      "\n",
      "    .. versionadded:: 1.6.0\n",
      "encoding : str, optional\n",
      "    Encoding used to decode the inputfile. Does not apply to input streams.\n",
      "    The special value 'bytes' enables backward compatibility workarounds\n",
      "    that ensures you receive byte arrays as results if possible and passes\n",
      "    'latin1' encoded strings to converters. Override this value to receive\n",
      "    unicode arrays and pass strings as input to converters.  If set to None\n",
      "    the system default is used. The default value is 'bytes'.\n",
      "\n",
      "    .. versionadded:: 1.14.0\n",
      "max_rows : int, optional\n",
      "    Read `max_rows` lines of content after `skiprows` lines. The default\n",
      "    is to read all the lines.\n",
      "\n",
      "    .. versionadded:: 1.16.0\n",
      "like : array_like\n",
      "    Reference object to allow the creation of arrays which are not\n",
      "    NumPy arrays. If an array-like passed in as ``like`` supports\n",
      "    the ``__array_function__`` protocol, the result will be defined\n",
      "    by it. In this case, it ensures the creation of an array object\n",
      "    compatible with that passed in via this argument.\n",
      "\n",
      "    .. versionadded:: 1.20.0\n",
      "\n",
      "Returns\n",
      "-------\n",
      "out : ndarray\n",
      "    Data read from the text file.\n",
      "\n",
      "See Also\n",
      "--------\n",
      "load, fromstring, fromregex\n",
      "genfromtxt : Load data with missing values handled as specified.\n",
      "scipy.io.loadmat : reads MATLAB data files\n",
      "\n",
      "Notes\n",
      "-----\n",
      "This function aims to be a fast reader for simply formatted files.  The\n",
      "`genfromtxt` function provides more sophisticated handling of, e.g.,\n",
      "lines with missing values.\n",
      "\n",
      ".. versionadded:: 1.10.0\n",
      "\n",
      "The strings produced by the Python float.hex method can be used as\n",
      "input for floats.\n",
      "\n",
      "Examples\n",
      "--------\n",
      ">>> from io import StringIO   # StringIO behaves like a file object\n",
      ">>> c = StringIO(\"0 1\\n2 3\")\n",
      ">>> np.loadtxt(c)\n",
      "array([[0., 1.],\n",
      "       [2., 3.]])\n",
      "\n",
      ">>> d = StringIO(\"M 21 72\\nF 35 58\")\n",
      ">>> np.loadtxt(d, dtype={'names': ('gender', 'age', 'weight'),\n",
      "...                      'formats': ('S1', 'i4', 'f4')})\n",
      "array([(b'M', 21, 72.), (b'F', 35, 58.)],\n",
      "      dtype=[('gender', 'S1'), ('age', '<i4'), ('weight', '<f4')])\n",
      "\n",
      ">>> c = StringIO(\"1,0,2\\n3,0,4\")\n",
      ">>> x, y = np.loadtxt(c, delimiter=',', usecols=(0, 2), unpack=True)\n",
      ">>> x\n",
      "array([1., 3.])\n",
      ">>> y\n",
      "array([2., 4.])\n",
      "\n",
      "This example shows how `converters` can be used to convert a field\n",
      "with a trailing minus sign into a negative number.\n",
      "\n",
      ">>> s = StringIO('10.01 31.25-\\n19.22 64.31\\n17.57- 63.94')\n",
      ">>> def conv(fld):\n",
      "...     return -float(fld[:-1]) if fld.endswith(b'-') else float(fld)\n",
      "...\n",
      ">>> np.loadtxt(s, converters={0: conv, 1: conv})\n",
      "array([[ 10.01, -31.25],\n",
      "       [ 19.22,  64.31],\n",
      "       [-17.57,  63.94]])\n",
      "\u001b[0;31mFile:\u001b[0m      ~/.local/lib/python3.9/site-packages/numpy/lib/npyio.py\n",
      "\u001b[0;31mType:\u001b[0m      function\n"
     ]
    }
   ],
   "metadata": {}
  },
  {
   "cell_type": "markdown",
   "source": [
    "1. Use `loadtxt` to load in a 2D array of floating point values from `'float_data.txt'`.\n",
    "   The data in the file looks like:\n",
    "\n",
    "        1 2 3 4\n",
    "        5 6 7 8\n",
    "\n",
    "   The resulting data should be a 2x4 array of floating point values."
   ],
   "metadata": {}
  },
  {
   "cell_type": "code",
   "execution_count": 4,
   "source": [
    "# Simple example loading a 2x4 array of floats from a file\n",
    "ary1 = loadtxt('float_data.txt')\n",
    "\n",
    "print('example 1:')\n",
    "print(ary1)"
   ],
   "outputs": [
    {
     "output_type": "stream",
     "name": "stdout",
     "text": [
      "example 1:\n",
      "[[1. 2. 3. 4.]\n",
      " [5. 6. 7. 8.]]\n"
     ]
    }
   ],
   "metadata": {}
  },
  {
   "cell_type": "markdown",
   "source": [
    "2. In the second example, the file `'float_data_with_header.txt'` has\n",
    "   strings as column names in the first row:\n",
    "\n",
    "        c1 c2 c3 c4\n",
    "         1  2  3  4\n",
    "         5  6  7  8\n",
    "\n",
    "   Ignore these column names, and read the remainder of the data into\n",
    "   a 2D array."
   ],
   "metadata": {}
  },
  {
   "cell_type": "code",
   "execution_count": 11,
   "source": [
    "# Same example, but skipping the first row of column headers\n",
    "ary2 = loadtxt('float_data_with_header.txt', skiprows=1)\n",
    "\n",
    "print('example 2:')\n",
    "print(ary2)"
   ],
   "outputs": [
    {
     "output_type": "stream",
     "name": "stdout",
     "text": [
      "example 2:\n",
      "[[1. 2. 3. 4.]\n",
      " [5. 6. 7. 8.]]\n"
     ]
    }
   ],
   "metadata": {}
  },
  {
   "cell_type": "markdown",
   "source": [
    "## Bonus\n",
    "\n",
    "\n",
    "3. A third example is more involved. It contains comments in multiple\n",
    "   locations, uses multiple formats, and includes a useless column to\n",
    "   skip:\n",
    "\n",
    "    -- THIS IS THE BEGINNING OF THE FILE --  \n",
    "    % This is a more complex file to read!\n",
    "\n",
    "    % Day,  Month,  Year, Useless Col, Avg Power\n",
    "       01,     01,  2000,      ad766,         30\n",
    "       02,     01,  2000,       t873,         41\n",
    "    % we don't have Jan 03rd!\n",
    "       04,     01,  2000,       r441,         55\n",
    "       05,     01,  2000,       s345,         78\n",
    "       06,     01,  2000,       x273,        134 % that day was crazy\n",
    "       07,     01,  2000,       x355,         42\n",
    "\n",
    "    %-- THIS IS THE END OF THE FILE --"
   ],
   "metadata": {}
  },
  {
   "cell_type": "code",
   "execution_count": 16,
   "source": [
    "# More complex example with comments and columns to skip\n",
    "ary3 = loadtxt('complex_data_file.txt', delimiter=\",\", skiprows=1, usecols=(0,1,2,4), comments=\"%\", dtype=int)\n",
    "\n",
    "print('example 3:')\n",
    "print(ary3)"
   ],
   "outputs": [
    {
     "output_type": "stream",
     "name": "stdout",
     "text": [
      "example 3:\n",
      "[[   1    1 2000   30]\n",
      " [   2    1 2000   41]\n",
      " [   4    1 2000   55]\n",
      " [   5    1 2000   78]\n",
      " [   6    1 2000  134]\n",
      " [   7    1 2000   42]]\n"
     ]
    }
   ],
   "metadata": {}
  },
  {
   "cell_type": "code",
   "execution_count": null,
   "source": [],
   "outputs": [],
   "metadata": {}
  }
 ],
 "metadata": {
  "kernelspec": {
   "name": "python3",
   "display_name": "Python 3.9.7 64-bit"
  },
  "language_info": {
   "codemirror_mode": {
    "name": "ipython",
    "version": 3
   },
   "file_extension": ".py",
   "mimetype": "text/x-python",
   "name": "python",
   "nbconvert_exporter": "python",
   "pygments_lexer": "ipython3",
   "version": "3.9.7"
  },
  "interpreter": {
   "hash": "e7370f93d1d0cde622a1f8e1c04877d8463912d04d973331ad4851f04de6915a"
  }
 },
 "nbformat": 4,
 "nbformat_minor": 4
}