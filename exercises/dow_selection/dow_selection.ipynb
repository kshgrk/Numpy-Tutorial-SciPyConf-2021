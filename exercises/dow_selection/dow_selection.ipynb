{
 "cells": [
  {
   "cell_type": "markdown",
   "source": [
    "# Dow Selection\n",
    "\n",
    "Topics: Boolean array operators, sum function, where function, plotting.\n",
    "\n",
    "The array 'dow' is a 2-D array with each row holding the\n",
    "daily performance of the Dow Jones Industrial Average from the\n",
    "beginning of 2008 (dates have been removed for exercise simplicity).\n",
    "The array has the following structure::\n",
    "\n",
    "       OPEN      HIGH      LOW       CLOSE     VOLUME      ADJ_CLOSE\n",
    "       13261.82  13338.23  12969.42  13043.96  3452650000  13043.96\n",
    "       13044.12  13197.43  12968.44  13056.72  3429500000  13056.72\n",
    "       13046.56  13049.65  12740.51  12800.18  4166000000  12800.18\n",
    "       12801.15  12984.95  12640.44  12827.49  4221260000  12827.49\n",
    "       12820.9   12998.11  12511.03  12589.07  4705390000  12589.07\n",
    "       12590.21  12814.97  12431.53  12735.31  5351030000  12735.31"
   ],
   "metadata": {}
  },
  {
   "cell_type": "code",
   "execution_count": 1,
   "source": [
    "%matplotlib inline\n",
    "from numpy import loadtxt, sum, where\n",
    "import matplotlib.pyplot as plt"
   ],
   "outputs": [],
   "metadata": {}
  },
  {
   "cell_type": "code",
   "execution_count": 5,
   "source": [
    "# Constants that indicate what data is held in each column of\n",
    "# the 'dow' array.\n",
    "OPEN = 0\n",
    "HIGH = 1\n",
    "LOW = 2\n",
    "CLOSE = 3\n",
    "VOLUME = 4\n",
    "ADJ_CLOSE = 5"
   ],
   "outputs": [],
   "metadata": {}
  },
  {
   "cell_type": "markdown",
   "source": [
    "0. The data has been loaded from a .csv file for you."
   ],
   "metadata": {}
  },
  {
   "cell_type": "code",
   "execution_count": 2,
   "source": [
    "# 'dow' is our NumPy array that we will manipulate.\n",
    "dow = loadtxt('dow.csv', delimiter=',')"
   ],
   "outputs": [],
   "metadata": {}
  },
  {
   "cell_type": "markdown",
   "source": [
    "1. Create a \"mask\" array that indicates which rows have a volume\n",
    "   greater than 5.5 billion."
   ],
   "metadata": {}
  },
  {
   "cell_type": "code",
   "execution_count": 9,
   "source": [
    "mask = dow[:, VOLUME] > 5.5e9\n",
    "mask"
   ],
   "outputs": [
    {
     "output_type": "execute_result",
     "data": {
      "text/plain": [
       "array([False, False, False, False, False, False, False, False, False,\n",
       "       False, False, False,  True,  True, False,  True, False, False,\n",
       "       False, False, False, False, False, False, False, False, False,\n",
       "       False, False, False, False, False, False, False, False, False,\n",
       "       False, False, False, False, False, False, False, False, False,\n",
       "       False, False, False, False, False, False,  True, False, False,\n",
       "        True, False, False, False, False, False, False, False, False,\n",
       "       False, False, False, False, False, False, False, False, False,\n",
       "       False, False, False, False, False, False, False, False, False,\n",
       "       False, False, False, False, False, False, False, False, False,\n",
       "       False, False, False, False, False, False, False, False, False,\n",
       "       False, False, False, False, False, False, False, False, False,\n",
       "       False, False, False, False, False, False, False, False, False,\n",
       "       False, False, False, False, False, False,  True, False,  True,\n",
       "       False, False, False,  True, False,  True,  True, False,  True,\n",
       "        True,  True,  True, False,  True,  True,  True, False, False,\n",
       "       False,  True, False, False, False, False, False, False, False,\n",
       "       False, False, False, False, False, False, False, False, False,\n",
       "       False, False, False, False, False, False])"
      ]
     },
     "metadata": {},
     "execution_count": 9
    }
   ],
   "metadata": {}
  },
  {
   "cell_type": "markdown",
   "source": [
    "2. How many are there?  (hint: use sum)."
   ],
   "metadata": {}
  },
  {
   "cell_type": "code",
   "execution_count": 18,
   "source": [
    "### METHOD 1 ###\n",
    "\n",
    "#above = where(mask==True)\n",
    "#len(above[0])\n",
    "\n",
    "### METHoD 2 ###\n",
    "\n",
    "sumt = sum(mask)\n",
    "sumt"
   ],
   "outputs": [
    {
     "output_type": "execute_result",
     "data": {
      "text/plain": [
       "18"
      ]
     },
     "metadata": {},
     "execution_count": 18
    }
   ],
   "metadata": {}
  },
  {
   "cell_type": "markdown",
   "source": [
    "3. Find the index of every row (or day) where the volume is greater\n",
    "   than 5.5 billion. hint: look at the `where()` command."
   ],
   "metadata": {}
  },
  {
   "cell_type": "code",
   "execution_count": 16,
   "source": [
    "where(mask==True)"
   ],
   "outputs": [
    {
     "output_type": "execute_result",
     "data": {
      "text/plain": [
       "(array([ 12,  13,  15,  51,  54, 123, 125, 129, 131, 132, 134, 135, 136,\n",
       "        137, 139, 140, 141, 145]),)"
      ]
     },
     "metadata": {},
     "execution_count": 16
    }
   ],
   "metadata": {}
  },
  {
   "cell_type": "markdown",
   "source": [
    "## Bonus\n",
    "\n",
    "1. Plot the adjusted close for EVERY day in 2008.\n",
    "2. Now over-plot this plot with a 'red dot' marker for every\n",
    "   day where the volume was greater than 5.5 billion."
   ],
   "metadata": {}
  },
  {
   "cell_type": "code",
   "execution_count": null,
   "source": [],
   "outputs": [],
   "metadata": {}
  }
 ],
 "metadata": {
  "kernelspec": {
   "name": "python3",
   "display_name": "Python 3.9.7 64-bit"
  },
  "language_info": {
   "codemirror_mode": {
    "name": "ipython",
    "version": 3
   },
   "file_extension": ".py",
   "mimetype": "text/x-python",
   "name": "python",
   "nbconvert_exporter": "python",
   "pygments_lexer": "ipython3",
   "version": "3.9.7"
  },
  "interpreter": {
   "hash": "e7370f93d1d0cde622a1f8e1c04877d8463912d04d973331ad4851f04de6915a"
  }
 },
 "nbformat": 4,
 "nbformat_minor": 2
}